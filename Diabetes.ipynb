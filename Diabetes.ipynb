{
 "cells": [
  {
   "cell_type": "code",
   "execution_count": 1,
   "id": "c1a6be4d",
   "metadata": {},
   "outputs": [],
   "source": [
    "import numpy as np\n",
    "import pandas as pd\n",
    "import sklearn.datasets as sd\n",
    "from sklearn.model_selection import train_test_split\n",
    "from sklearn.linear_model import LinearRegression"
   ]
  },
  {
   "cell_type": "code",
   "execution_count": 2,
   "id": "021a0600",
   "metadata": {},
   "outputs": [],
   "source": [
    "data=sd.load_diabetes()\n",
    "train=np.genfromtxt('0000000000002329_training_diabetes_x_y_train.csv',delimiter=',')\n",
    "df=pd.DataFrame(train)\n",
    "x_train=df.iloc[:,:10]\n",
    "y_train=df.iloc[:,10:]\n",
    "\n",
    "test=np.genfromtxt('0000000000002329_test_diabetes_x_test.csv',delimiter=',')\n",
    "df=pd.DataFrame(test)\n",
    "x_test=df.iloc[:,:10]"
   ]
  },
  {
   "cell_type": "code",
   "execution_count": 3,
   "id": "bf42891f",
   "metadata": {},
   "outputs": [
    {
     "data": {
      "text/plain": [
       "LinearRegression()"
      ]
     },
     "execution_count": 3,
     "metadata": {},
     "output_type": "execute_result"
    }
   ],
   "source": [
    "reg=LinearRegression()\n",
    "reg.fit(x_train,y_train)"
   ]
  },
  {
   "cell_type": "code",
   "execution_count": 4,
   "id": "7fad64a5",
   "metadata": {},
   "outputs": [
    {
     "data": {
      "text/plain": [
       "array([[  21.73408096, -256.66866675,  569.60940087,  303.63233545,\n",
       "        -833.11088526,  525.74313633,  136.07129167,  140.89458927,\n",
       "         731.44498492,   53.32119133]])"
      ]
     },
     "execution_count": 4,
     "metadata": {},
     "output_type": "execute_result"
    }
   ],
   "source": [
    "reg.coef_"
   ]
  },
  {
   "cell_type": "code",
   "execution_count": 5,
   "id": "af468c15",
   "metadata": {},
   "outputs": [
    {
     "data": {
      "text/plain": [
       "array([150.70257489])"
      ]
     },
     "execution_count": 5,
     "metadata": {},
     "output_type": "execute_result"
    }
   ],
   "source": [
    "reg.intercept_"
   ]
  },
  {
   "cell_type": "code",
   "execution_count": 6,
   "id": "f32e3e14",
   "metadata": {},
   "outputs": [],
   "source": [
    "y_pred=reg.predict(x_test)\n",
    "y_pred=y_pred.reshape(111,)"
   ]
  },
  {
   "cell_type": "code",
   "execution_count": 7,
   "id": "40e6c76f",
   "metadata": {},
   "outputs": [],
   "source": [
    "ser=pd.Series(y_pred)"
   ]
  },
  {
   "cell_type": "code",
   "execution_count": 8,
   "id": "7c0d7d6c",
   "metadata": {},
   "outputs": [],
   "source": [
    "ser.to_csv('pred.csv',index=False,header=None)"
   ]
  }
 ],
 "metadata": {
  "kernelspec": {
   "display_name": "Python 3 (ipykernel)",
   "language": "python",
   "name": "python3"
  },
  "language_info": {
   "codemirror_mode": {
    "name": "ipython",
    "version": 3
   },
   "file_extension": ".py",
   "mimetype": "text/x-python",
   "name": "python",
   "nbconvert_exporter": "python",
   "pygments_lexer": "ipython3",
   "version": "3.9.13"
  }
 },
 "nbformat": 4,
 "nbformat_minor": 5
}
